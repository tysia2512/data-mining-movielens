{
 "cells": [
  {
   "cell_type": "code",
   "execution_count": 1,
   "metadata": {
    "collapsed": true
   },
   "outputs": [],
   "source": [
    "# python 2.7 with anaconda\n",
    "\n",
    "import numpy as npmovies\n",
    "from sklearn import datasets\n",
    "from scipy.stats import mode\n",
    "import scipy as sp\n",
    "import pandas as pd"
   ]
  },
  {
   "cell_type": "code",
   "execution_count": 2,
   "metadata": {
    "collapsed": true
   },
   "outputs": [],
   "source": [
    "# Data set: Movie Lens 20M (http://grouplens.org/datasets/movielens/20m/)\n",
    "\n",
    "genome_scores = pd.read_csv('ml-20m/genome-scores.csv')\n",
    "genome_tags = pd.read_csv('ml-20m/genome-tags.csv')\n",
    "links = pd.read_csv('ml-20m/links.csv')\n",
    "movies = pd.read_csv('ml-20m/movies.csv')\n",
    "ratings = pd.read_csv('ml-20m/ratings.csv')\n",
    "tags = pd.read_csv('ml-20m/tags.csv')"
   ]
  },
  {
   "cell_type": "code",
   "execution_count": 21,
   "metadata": {
    "collapsed": true
   },
   "outputs": [],
   "source": [
    "# print(movies.info())"
   ]
  },
  {
   "cell_type": "code",
   "execution_count": 3,
   "metadata": {},
   "outputs": [
    {
     "name": "stdout",
     "output_type": "stream",
     "text": [
      "<class 'pandas.core.frame.DataFrame'>\n",
      "RangeIndex: 11709768 entries, 0 to 11709767\n",
      "Data columns (total 3 columns):\n",
      "movieId      int64\n",
      "tagId        int64\n",
      "relevance    float64\n",
      "dtypes: float64(1), int64(2)\n",
      "memory usage: 268.0 MB\n"
     ]
    },
    {
     "data": {
      "text/plain": [
       "None"
      ]
     },
     "metadata": {},
     "output_type": "display_data"
    },
    {
     "name": "stdout",
     "output_type": "stream",
     "text": [
      "<class 'pandas.core.frame.DataFrame'>\n",
      "RangeIndex: 1128 entries, 0 to 1127\n",
      "Data columns (total 2 columns):\n",
      "tagId    1128 non-null int64\n",
      "tag      1128 non-null object\n",
      "dtypes: int64(1), object(1)\n",
      "memory usage: 17.7+ KB\n"
     ]
    },
    {
     "data": {
      "text/plain": [
       "None"
      ]
     },
     "metadata": {},
     "output_type": "display_data"
    },
    {
     "name": "stdout",
     "output_type": "stream",
     "text": [
      "<class 'pandas.core.frame.DataFrame'>\n",
      "RangeIndex: 27278 entries, 0 to 27277\n",
      "Data columns (total 3 columns):\n",
      "movieId    27278 non-null int64\n",
      "imdbId     27278 non-null int64\n",
      "tmdbId     27026 non-null float64\n",
      "dtypes: float64(1), int64(2)\n",
      "memory usage: 639.4 KB\n"
     ]
    },
    {
     "data": {
      "text/plain": [
       "None"
      ]
     },
     "metadata": {},
     "output_type": "display_data"
    },
    {
     "name": "stdout",
     "output_type": "stream",
     "text": [
      "<class 'pandas.core.frame.DataFrame'>\n",
      "RangeIndex: 27278 entries, 0 to 27277\n",
      "Data columns (total 3 columns):\n",
      "movieId    27278 non-null int64\n",
      "title      27278 non-null object\n",
      "genres     27278 non-null object\n",
      "dtypes: int64(1), object(2)\n",
      "memory usage: 639.4+ KB\n"
     ]
    },
    {
     "data": {
      "text/plain": [
       "None"
      ]
     },
     "metadata": {},
     "output_type": "display_data"
    },
    {
     "name": "stdout",
     "output_type": "stream",
     "text": [
      "<class 'pandas.core.frame.DataFrame'>\n",
      "RangeIndex: 20000263 entries, 0 to 20000262\n",
      "Data columns (total 4 columns):\n",
      "userId       int64\n",
      "movieId      int64\n",
      "rating       float64\n",
      "timestamp    int64\n",
      "dtypes: float64(1), int64(3)\n",
      "memory usage: 610.4 MB\n"
     ]
    },
    {
     "data": {
      "text/plain": [
       "None"
      ]
     },
     "metadata": {},
     "output_type": "display_data"
    },
    {
     "name": "stdout",
     "output_type": "stream",
     "text": [
      "<class 'pandas.core.frame.DataFrame'>\n",
      "RangeIndex: 465564 entries, 0 to 465563\n",
      "Data columns (total 4 columns):\n",
      "userId       465564 non-null int64\n",
      "movieId      465564 non-null int64\n",
      "tag          465548 non-null object\n",
      "timestamp    465564 non-null int64\n",
      "dtypes: int64(3), object(1)\n",
      "memory usage: 14.2+ MB\n"
     ]
    },
    {
     "data": {
      "text/plain": [
       "None"
      ]
     },
     "metadata": {},
     "output_type": "display_data"
    }
   ],
   "source": [
    "for ds in (genome_scores, genome_tags, links, movies, ratings, tags):\n",
    "    display(ds.info())"
   ]
  },
  {
   "cell_type": "code",
   "execution_count": 4,
   "metadata": {
    "collapsed": true
   },
   "outputs": [],
   "source": [
    "def add_genres(movies):\n",
    "    new_movies = movies.copy()\n",
    "    \n",
    "    for ix in range(0, len(movies)):\n",
    "        genres = movies['genres'][ix]\n",
    "        new_movies.at[ix, 'genres'] = [] if genres == \"(no genres listed)\" \\\n",
    "                                         else genres.split('|')\n",
    "\n",
    "    return new_movies\n",
    "\n",
    "movies_with_genres = add_genres(movies.head())\n",
    "# display(movies_with_genres)"
   ]
  },
  {
   "cell_type": "code",
   "execution_count": 5,
   "metadata": {},
   "outputs": [
    {
     "data": {
      "text/plain": [
       "0.5"
      ]
     },
     "metadata": {},
     "output_type": "display_data"
    }
   ],
   "source": [
    "movies = movies_with_genres\n",
    "display (ratings['rating'].min()) # 0.5 star - 5.0 stars"
   ]
  },
  {
   "cell_type": "code",
   "execution_count": 6,
   "metadata": {
    "collapsed": true,
    "scrolled": false
   },
   "outputs": [],
   "source": [
    "user_rating = ratings.head(1000000)\\\n",
    "              .pivot(index = 'userId', columns ='movieId', values = 'rating')\\\n",
    "              .fillna(0)"
   ]
  },
  {
   "cell_type": "code",
   "execution_count": 29,
   "metadata": {
    "collapsed": true
   },
   "outputs": [],
   "source": [
    "# display (user_rating.tail(10))\n",
    "# display (ratings.tail(10))"
   ]
  },
  {
   "cell_type": "code",
   "execution_count": 7,
   "metadata": {},
   "outputs": [
    {
     "name": "stdout",
     "output_type": "stream",
     "text": [
      "<class 'pandas.core.frame.DataFrame'>\n",
      "Int64Index: 6743 entries, 1 to 6743\n",
      "Columns: 13950 entries, 1 to 130642\n",
      "dtypes: float64(13950)\n",
      "memory usage: 717.7 MB\n",
      "None\n"
     ]
    }
   ],
   "source": [
    "print(user_rating.info())"
   ]
  },
  {
   "cell_type": "code",
   "execution_count": 70,
   "metadata": {},
   "outputs": [
    {
     "name": "stdout",
     "output_type": "stream",
     "text": [
      "[[ 1.          0.09659002  0.25177142  0.02438785  0.13284701]\n",
      " [ 0.09659002  1.          0.17436722  0.06139905  0.13633738]]\n"
     ]
    }
   ],
   "source": [
    "import numpy as np\n",
    "import scipy as sp\n",
    "\n",
    "def pearson(x, y):\n",
    "    if len(x.shape) == 1:\n",
    "        x = x.reshape((1, -1))\n",
    "    if len(y.shape) == 1:\n",
    "        y = y.reshape((1, -1))\n",
    "        \n",
    "    prsn = np.zeros((x.shape[0], y.shape[0]))\n",
    "    for xi in np.arange(x.shape[0]):\n",
    "        for yi in np.arange(y.shape[0]):\n",
    "            prsn[xi, yi] = sp.stats.pearsonr(x[xi,:], y[yi,:])[0]\n",
    "    \n",
    "    return prsn\n",
    "\n",
    "x = user_rating.head(10)\n",
    "a = pearson(np.array(x[:2]), np.array(x[:5]))\n",
    "print(a)"
   ]
  }
 ],
 "metadata": {
  "kernelspec": {
   "display_name": "Python 2",
   "language": "python",
   "name": "python2"
  },
  "language_info": {
   "codemirror_mode": {
    "name": "ipython",
    "version": 2
   },
   "file_extension": ".py",
   "mimetype": "text/x-python",
   "name": "python",
   "nbconvert_exporter": "python",
   "pygments_lexer": "ipython2",
   "version": "2.7.11"
  }
 },
 "nbformat": 4,
 "nbformat_minor": 2
}
